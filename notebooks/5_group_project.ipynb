{
 "cells": [
  {
   "cell_type": "markdown",
   "id": "046723bc",
   "metadata": {},
   "source": [
    "# Group Project"
   ]
  },
  {
   "cell_type": "markdown",
   "id": "c41cd81f",
   "metadata": {},
   "source": [
    "In this notebook, we introduce the group project element of this module. You should already have been provided with details of your group. \n",
    "\n",
    "## The project\n",
    "\n",
    "The goal of your project is **to write a software package which provides a command-line tool that enables users to solve the Time-Dependent Schrödinger Equation for an arbitrary user-specified potential**. How the project is implemented is up to the group, but the project will be marked based on the GitHub repository in which it is built against these criteria\n",
    "\n",
    "1. [40%] **The quality of the software you deliver**\n",
    "  * Does the software solve the problem posed?\n",
    "  * Is the implementation clear and concise?\n",
    "  * Does the software enable users to access the module directly in addition to the command line?\n",
    "  * Is the software packaged on pypi test with instructions for the user on how to install it?\n",
    "  * Are there examples of how to use the software in an example/ directory?\n",
    "2. [20%] **The use of collaborative working tools**\n",
    "  * Has the group used GitHub to build the project?\n",
    "  * Were Issues used to effectively distribute tasks\n",
    "  * Were Pull Requests used to enable collaborative development?\n",
    "  * Did the group perform code review?\n",
    "3. [20%] **The application of standardized software development practises**\n",
    "  * Is the software documented with clear docstrings?\n",
    "  * Does the software follow the Software Development Best Practises laid out in Worksheet 3?\n",
    "  * Have regression tests been written to cover a reasonable proportion of the software?\n",
    "  * Have the practises been followed through development?\n",
    "4. [10%] **The development of integrated testing and documentation into your software**\n",
    "  * Are the tests integrated into the CI and used to maintain quality?\n",
    "  * Has documentation been developed and available to the user?\n",
    "5. [10%] **The extension of the basic module**\n",
    "  * Has the basic concept been extended beyond the initial specification?\n",
    "  \n",
    "A total mark for the project will be calculated against this grading criteria. Individual members will then be assigned a mark weighted by their contribution to the project. This will be evaluated by looking at the GitHub repository including the issues, pull requests, and history. Therefore, it is **important that you contribute to the project directly on GitHub**. "
   ]
  },
  {
   "cell_type": "markdown",
   "id": "3cd14368",
   "metadata": {},
   "source": [
    "## How to complete the project\n",
    "\n",
    "In the group project element of this module, you will use GitHub to plan and execute the building of a python package. Below, we provide a short list of actions your group should take.\n",
    "\n",
    "1. **Create a GitHub repository for your software** starting from [this template](https://github.com/GregoryAshton/template_project_PH3010_advanced_python/generate). You will need to pick one person to host it and a good name. They can then add all other members using the setting/Collaborators tab. \n",
    "2. Working together, **create a list of issues** (see the `Issues` tab) planning out the development of the project. This need not be complete as new issues can be created as an when. A good initial issue might be \"Set up the basic python project\".\n",
    "3. **Assign the issues to team members** - they should then resolve the issues applying the concepts of GitHub Flow (i.e. create Pull Requests, request review, then merge once it is complete).\n",
    "4. Iterate 2-3 until you are ready to submit the project.\n",
    "5. To submit the project, email Greg Ashton with a link to your GitHub repository. All marks will be assigned for project as it exists at submission time and subsequent changes will be ignored. Marks can only be assigned for work which is clearly accessible via the GitHub link, so be sure to add a `README.md` explaining where to find all the parts of the software.\n",
    "\n",
    "You may find it helpful to follow these vidoe\n",
    "[Video tutorial of step 1](https://rhul.hosted.panopto.com/Panopto/Pages/Viewer.aspx?id=cc3a84b2-e49d-4014-b979-af020083437b)\n",
    "\n",
    "[Video tutorial of steps 2-3](https://rhul.hosted.panopto.com/Panopto/Pages/Viewer.aspx?id=c97903a7-647e-4e62-9b45-af0200835ba9). "
   ]
  },
  {
   "cell_type": "code",
   "execution_count": null,
   "id": "5508b64b",
   "metadata": {},
   "outputs": [],
   "source": []
  }
 ],
 "metadata": {
  "kernelspec": {
   "display_name": "Python 3 (ipykernel)",
   "language": "python",
   "name": "python3"
  },
  "language_info": {
   "codemirror_mode": {
    "name": "ipython",
    "version": 3
   },
   "file_extension": ".py",
   "mimetype": "text/x-python",
   "name": "python",
   "nbconvert_exporter": "python",
   "pygments_lexer": "ipython3",
   "version": "3.9.7"
  }
 },
 "nbformat": 4,
 "nbformat_minor": 5
}
