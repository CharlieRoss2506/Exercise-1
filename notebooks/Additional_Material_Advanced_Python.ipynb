{
 "cells": [
  {
   "cell_type": "markdown",
   "id": "ba9215d2",
   "metadata": {},
   "source": [
    "# Bonus Material\n",
    "\n",
    "This notebook collects together various additional material for the course which goes beyond the course remit. If you are interested, I'd strongly recommend you pass over this bonus material and try out the challenge functions."
   ]
  },
  {
   "cell_type": "markdown",
   "id": "22b987c3",
   "metadata": {},
   "source": [
    "## Recursive Functions"
   ]
  },
  {
   "cell_type": "markdown",
   "id": "99ebfaca",
   "metadata": {},
   "source": [
    "Perhaps the most fun one can have with `functions` is recursive functions, that is a function which calls itself. For example, imagine we have a nested data structure of the names of students in a school. It is given in a dictionary of dictionaries where the top level is the year group, then the next level is the class name (they use animal names for each class). It might look something like"
   ]
  },
  {
   "cell_type": "code",
   "execution_count": null,
   "id": "386c5165",
   "metadata": {},
   "outputs": [],
   "source": [
    "\n",
    "roster = dict(\n",
    "    year_1=dict(\n",
    "        tigers=[\"greg\", \"surabhi\", \"jamil\", \"nicolo\"],\n",
    "        elephants=[\"kayan\", \"casper\", \"emily\"]\n",
    "    ),\n",
    "    year_2=dict(\n",
    "        gazelle=[\"robert\", \"woody\", \"charlotte\"],\n",
    "        elephants=[\"robyn\", \"rory\"]\n",
    "    )\n",
    ")"
   ]
  },
  {
   "cell_type": "markdown",
   "id": "1fcdee8d",
   "metadata": {},
   "source": [
    "How can we count the total number of students? We can use a recursive function which calls itself!"
   ]
  },
  {
   "cell_type": "code",
   "execution_count": null,
   "id": "5eba7d8d",
   "metadata": {},
   "outputs": [],
   "source": [
    "def count_students(inputs, total=0):\n",
    "    if isinstance(inputs, dict):\n",
    "        for key in inputs:\n",
    "            total = count_students(inputs[key], total)\n",
    "    elif isinstance(inputs, list):\n",
    "        total += len(inputs)\n",
    "    return total\n",
    "        \n",
    "count_students(roster)"
   ]
  },
  {
   "cell_type": "markdown",
   "id": "2fde6158",
   "metadata": {},
   "source": [
    "The nice thing is, we don't need to know in advance how complicated the list is. If teachers add sub-classes, then it will still work."
   ]
  },
  {
   "cell_type": "markdown",
   "id": "5da082bf",
   "metadata": {},
   "source": [
    "<div class=\"alert alert-block alert-danger\">\n",
    "<b>Challenge 1.4:</b> Write a recursive function to calculate the factorial function $f(N) = N\\times(N-1)\\times(N-2)\\ldots1$ and use it to calculate $52!$.\n",
    "</div>"
   ]
  },
  {
   "cell_type": "markdown",
   "id": "b776afde",
   "metadata": {},
   "source": [
    "## Classes (advanced)"
   ]
  },
  {
   "cell_type": "markdown",
   "id": "0c34d718",
   "metadata": {},
   "source": [
    "We now look at some advanced techniques that classes and enable. Here are a set of classes which add dimensional units to python floats."
   ]
  },
  {
   "cell_type": "code",
   "execution_count": null,
   "id": "272366ec",
   "metadata": {},
   "outputs": [],
   "source": [
    "class Unit(float):\n",
    "    def __init__(self, value, si_base):\n",
    "        \"\"\" Generic base class for units\n",
    "        \n",
    "        This base class should not be used directly, but all Unit classes should inherit from it\n",
    "        \n",
    "        Parameters\n",
    "        ----------\n",
    "        value: float\n",
    "            The value of the float\n",
    "        si_base: str\n",
    "            The si base unit of the quantity\n",
    "        \"\"\"\n",
    "        self.value = value\n",
    "        self.si_base = si_base\n",
    "        \n",
    "    def __str__(self):\n",
    "        \"\"\" When str() is called on the instance, return a string with units attached \"\"\"\n",
    "        return f\"{self.value} [{self.units}]\"\n",
    "    \n",
    "    @property\n",
    "    def units(self):\n",
    "        \"\"\" A units property, returns the si_base unit string\n",
    "        \n",
    "        Example\n",
    "        -------\n",
    "        >>> x = Unit(value=2, si_base=\"m\")\n",
    "        >>> x.units\n",
    "        \"m\"\n",
    "        \"\"\"\n",
    "        return self.si_base\n",
    "    \n",
    "    def __add__(u1, u2):\n",
    "        \"\"\" Method to add to Unit instances together\n",
    "        \n",
    "        Note: this does not check that the units are the same!\n",
    "        \"\"\"\n",
    "        return u1.__class__(u1.value + u2.value)\n",
    "    \n",
    "    def __sub__(u1, u2):\n",
    "        \"\"\" Method to subtract Unit instances together\n",
    "        \n",
    "        Note: this does not check that the units are the same!\n",
    "        \"\"\"\n",
    "        return u1.__class__(u1.value - u2.value)\n",
    "    \n",
    "    def __mul__(u1, u2):\n",
    "        \"\"\" Method to multiple Unit instances together\"\"\"\n",
    "        derived_si_base = f\"{u1.si_base}*{u2.si_base}\"\n",
    "        return DerivedUnit(value=u1.value * u2.value, si_base=derived_si_base)\n",
    "    \n",
    "    def __truediv__(u1, u2):\n",
    "        \"\"\" Method to divide Unit instances\"\"\"\n",
    "        derived_si_base = f\"{u1.si_base}/{u2.si_base}\"\n",
    "        return DerivedUnit(value=u1.value * u2.value, si_base=derived_si_base)\n",
    "    \n",
    "\n",
    "class DerivedUnit(Unit):\n",
    "    def __init__(self, value, si_base):\n",
    "        \"\"\" A class for derived units, e.g. the product/division of two Unit classes \"\"\"\n",
    "        super().__init__(value, si_base)\n",
    "        \n",
    "class Distance(Unit):\n",
    "    def __init__(self, value):\n",
    "        \"\"\" SI units for distance \"\"\"\n",
    "        super().__init__(value, si_base=\"m\")\n",
    "\n",
    "        \n",
    "class Time(Unit):\n",
    "    def __init__(self, value):\n",
    "        \"\"\" SI units for distance \"\"\"\n",
    "        super().__init__(value, si_base=\"s\")      "
   ]
  },
  {
   "cell_type": "markdown",
   "id": "fab83d0a",
   "metadata": {},
   "source": [
    "Okay, there is a lot going on in that cell. Skim over the documentation then take a look at the examples below.\n",
    "\n",
    "We can define a distance and get a representation including units"
   ]
  },
  {
   "cell_type": "code",
   "execution_count": null,
   "id": "eeb76b80",
   "metadata": {},
   "outputs": [],
   "source": [
    "x = Distance(10) \n",
    "x_as_a_string = str(x)\n",
    "x_as_a_string"
   ]
  },
  {
   "cell_type": "markdown",
   "id": "5d393fba",
   "metadata": {},
   "source": [
    "This conversion gets done automatically when we `print` the variable as well"
   ]
  },
  {
   "cell_type": "code",
   "execution_count": null,
   "id": "0b383c19",
   "metadata": {},
   "outputs": [],
   "source": [
    "print(x)"
   ]
  },
  {
   "cell_type": "code",
   "execution_count": null,
   "id": "f51fdd8b",
   "metadata": {},
   "outputs": [],
   "source": [
    "We can also combine quantities together"
   ]
  },
  {
   "cell_type": "code",
   "execution_count": null,
   "id": "499ce913",
   "metadata": {},
   "outputs": [],
   "source": [
    "x = Distance(10) \n",
    "t = Time(3)\n",
    "\n",
    "print(x / t)"
   ]
  },
  {
   "cell_type": "markdown",
   "id": "7b1f70f4",
   "metadata": {},
   "source": [
    "Note this is a fairly limited implementation. The `Unit` classes above have oone cruical issue. I can add distances and times together! "
   ]
  },
  {
   "cell_type": "code",
   "execution_count": null,
   "id": "f84f1297",
   "metadata": {},
   "outputs": [],
   "source": [
    "print(x + t)"
   ]
  },
  {
   "cell_type": "markdown",
   "id": "9d46e3ba",
   "metadata": {},
   "source": [
    "<div class=\"alert alert-block alert-danger\">\n",
    "<b>Challenge 1.5</b> Add a ValueError to the `Unit` class so that an error is raised when you try to add units together which don't have the same units.\n",
    "</div>"
   ]
  },
  {
   "cell_type": "markdown",
   "id": "5cf30790",
   "metadata": {},
   "source": [
    "There are many nice packages which implement units (for example [units](https://pypi.org/project/units/)). These include all sorts of clever features. But, it is still fun to implement things from scratch to see how they work"
   ]
  },
  {
   "cell_type": "code",
   "execution_count": null,
   "id": "de488234",
   "metadata": {},
   "outputs": [],
   "source": []
  }
 ],
 "metadata": {
  "kernelspec": {
   "display_name": "Python 3 (ipykernel)",
   "language": "python",
   "name": "python3"
  },
  "language_info": {
   "codemirror_mode": {
    "name": "ipython",
    "version": 3
   },
   "file_extension": ".py",
   "mimetype": "text/x-python",
   "name": "python",
   "nbconvert_exporter": "python",
   "pygments_lexer": "ipython3",
   "version": "3.9.12"
  }
 },
 "nbformat": 4,
 "nbformat_minor": 5
}
