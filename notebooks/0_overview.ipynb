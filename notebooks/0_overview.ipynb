{
 "cells": [
  {
   "cell_type": "markdown",
   "id": "17b64465",
   "metadata": {},
   "source": [
    "# PH3010: Advanced methods in Python and software development\n",
    "\n",
    "In this module, you will learn advanced methods in python and software development. We will build on the ideas you learned in PH2150. The ultimate goal will be to write a software package which enables users to solve the Time-Dependent Schrödinger Equation for an arbitrary potential. You will do this in a team, using open-source collaboration tools on `GitHub`, and packaging your software so that others can use it. While the content of this module is inextricably physics, you will be assesed on:\n",
    "\n",
    "1. The quality of the software you deliver\n",
    "2. The use of collaborative working tools\n",
    "3. The application of standardized software development practises\n",
    "4. The development of integrated testing and documentation into your software\n",
    "5. The extension of the basic module\n",
    "\n",
    "You may ask, why are these important?\n",
    "\n",
    "The days of the lone-programmer silently tapping away in her basement to develop software are gone. Nowadays, across all areas of Physics, data science, education, finance, etc, software is developed by teams of people. It is likely that in your future career you may be such a person. The software you write might be finding new particles at the LHC, measuring the impact of climate change on our World, helping customers to purchase a better car, or pricing options for a bank. But whatever it does, you will no doubt want it to do the job well! However, working in a large team is difficult. Your colleagues may be distributed across the globe, in many timezones, and all working on the same piece of software. \n",
    "\n",
    "In such an environment, you can't just email your \"software\" to your colleague and then wait for them to add their bits before running it. We need to be able to develop code together in a distributed fashion. We also want that code to meet certain quality requirements. And, when someone changes the code, it shouldn't break everything! The means to meet these requirements have largely been solved by the open-source community. Millions of people worldwide write code together collaboratively. Often, they have never met and might not even speak the same language. In this module, you will get a taster for how this is done in practice. "
   ]
  },
  {
   "cell_type": "markdown",
   "id": "2446b970",
   "metadata": {},
   "source": [
    "## About these notes\n",
    "\n",
    "These notes are built using a [jupyter](https://jupyter.org/) notebook. There are several bits of syntax you need to know:\n",
    "\n",
    "Cells which contain python look like this:"
   ]
  },
  {
   "cell_type": "code",
   "execution_count": null,
   "id": "5cebf4bf",
   "metadata": {},
   "outputs": [],
   "source": [
    "print(\"Hello world\")"
   ]
  },
  {
   "cell_type": "markdown",
   "id": "33ccdce8",
   "metadata": {},
   "source": [
    "The notes where built using"
   ]
  },
  {
   "cell_type": "code",
   "execution_count": null,
   "id": "bd1026a9",
   "metadata": {},
   "outputs": [],
   "source": [
    "import sys, numpy, matplotlib, scipy\n",
    "print(f\"We are using python version {sys.version}\")\n",
    "\n",
    "for module in numpy, matplotlib, scipy:\n",
    "    print(f\"We are using {module.__name__} version {module.__version__}\")"
   ]
  },
  {
   "cell_type": "markdown",
   "id": "b2e0d67d",
   "metadata": {},
   "source": [
    "3. Cells which start with an exclamation point are running the command in the host linux environment, e.g here we use the linux `date` program:"
   ]
  },
  {
   "cell_type": "code",
   "execution_count": null,
   "id": "896a7ddf",
   "metadata": {},
   "outputs": [],
   "source": [
    "! date"
   ]
  },
  {
   "cell_type": "markdown",
   "id": "b725b682",
   "metadata": {},
   "source": [
    "To successfully complete this project, you will need access to `python` and `git`. If you do not have access to these, please follow one of [the guides to getting set up](https://github.com/GregoryAshton/PH3010_advanced_python/). Assuming you have both of these installed and access to a terminal, once you have follows [this guide](https://github.com/GregoryAshton/PH3010_advanced_python/blob/main/guides/PH3010_getting_started.md) you should be able to open the notebooks for this course:\n",
    "\n",
    "```terminal\n",
    "$ cd PH3010_advanced_python/\n",
    "$ jupyter notebook\n",
    "```\n",
    "\n",
    "This will launch the jupyter notebook in your browser (or print a message on how to access it). From there you can directly open these files starting with \"Advanced Python\""
   ]
  }
 ],
 "metadata": {
  "kernelspec": {
   "display_name": "Python 3 (ipykernel)",
   "language": "python",
   "name": "python3"
  },
  "language_info": {
   "codemirror_mode": {
    "name": "ipython",
    "version": 3
   },
   "file_extension": ".py",
   "mimetype": "text/x-python",
   "name": "python",
   "nbconvert_exporter": "python",
   "pygments_lexer": "ipython3",
   "version": "3.9.7"
  }
 },
 "nbformat": 4,
 "nbformat_minor": 5
}
