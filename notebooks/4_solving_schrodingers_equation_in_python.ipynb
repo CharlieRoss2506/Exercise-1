{
 "cells": [
  {
   "cell_type": "code",
   "execution_count": null,
   "id": "451fefa2",
   "metadata": {},
   "outputs": [],
   "source": [
    "import numpy as np\n",
    "import matplotlib.pyplot as plt\n",
    "from findiff import FinDiff\n",
    "from scipy.sparse.linalg import inv\n",
    "from scipy.sparse import eye, diags\n",
    "import matplotlib.animation as animation\n",
    "\n",
    "plt.rcParams[\"axes.labelsize\"] = 16"
   ]
  },
  {
   "cell_type": "markdown",
   "id": "f2476630",
   "metadata": {},
   "source": [
    "# Solving Schrödinger's Equation in Python\n",
    "\n",
    "In this notebook, we will see how to solve Schrödinger's equation in 1D for a single particle in a potential well. The method we use here is not the fastest or the most accurate and the software will be written in a rough format. Your task next week will be to develop a python package which implements this approach following good software practise! But for now, please read through this worksheet to make sure you understand how we obtain the approximate solution.\n",
    "\n",
    "## Quantum Mechanics Reminder\n",
    "\n",
    "Recall that the one-dimensional time-dependent Schrödinger equation for a particle of mass $m$ in a potential $V(x, t)$ can be written as\n",
    "\n",
    "\\begin{align}\n",
    "i \\frac{\\partial \\Psi(x, t)}{\\partial t} = H \\psi(x,t)\\,\n",
    "\\end{align}\n",
    "\n",
    "where $\\Psi(x, t)$ is the complex wave function as a function of time $t$ and space $x$ and $H$ is the Hamiltonian operator\n",
    "\n",
    "\\begin{align}\n",
    "H = -\\frac{1}{2} \\frac{\\partial^{2}}{\\partial x^2} + V(x, t)\\,.\n",
    "\\end{align}\n",
    "\n",
    "For simplicity, we have set $m=1$ and $\\hbar=1$.\n",
    "\n",
    "You will no doubt have seen analytic solutions to this, and maybe even numerical solutions as well. In this worksheet, we will solve it for a time invariant potential $V(x, t) = V(x) = k x^2$ where $k$ is an arbitrary constant. (Note: this is known as a Quantum Harmonic Oscillator and also has a known analytic solution, but here we use it as an example to demonstrate how to solve the problem numerically). We also need the initial conditions, in this case, we'll state that \n",
    "\n",
    "\\begin{align}\n",
    "\\Psi(t=0) = e^{-(x + 2)^{2}}\\,.\n",
    "\\end{align}\n",
    "\n",
    "Let's plot this initial state and the potential. Because they are both arbitrarily scaled, we put them on two separate axes"
   ]
  },
  {
   "cell_type": "code",
   "execution_count": null,
   "id": "72ceb704",
   "metadata": {},
   "outputs": [],
   "source": [
    "x_array = np.linspace(-5, 5, 500)\n",
    "\n",
    "k = 1 \n",
    "v_x = k * x_array ** 2\n",
    "psi = np.exp(-(x_array+2)**2)\n",
    "\n",
    "fig, ax = plt.subplots()\n",
    "\n",
    "ax.plot(x_array, np.abs(psi)**2)\n",
    "ax.set_xlabel(\"x [arb units]\")\n",
    "ax.set_ylabel(\"$|\\Psi(x, t=0)|^2$\", color=\"C0\")\n",
    "\n",
    "ax_twin = ax.twinx()\n",
    "ax_twin.plot(x_array, v_x, color='C1')\n",
    "ax_twin.set_ylabel(\"$V(x)$\", color=\"C1\")\n",
    "plt.show()"
   ]
  },
  {
   "cell_type": "markdown",
   "id": "9899fe63",
   "metadata": {},
   "source": [
    "To evolve this system in time, we will develop a finite difference scheme. But, before we get to that let's quickly have a reminder on finite difference operators!\n",
    "\n",
    "## Recap on finite difference operators\n",
    "\n",
    "Recall that the second-order central finite difference method yields\n",
    "\\begin{align}\n",
    "y'' = \\frac{\\partial^{2} f(x)}{\\partial x^2} \\approx \\frac{f(x-h) -2 f(x) + f(x + h)}{h^2}\n",
    "\\end{align}\n",
    "where $\\frac{\\partial^{2}}{\\partial x^2}$ is the operator.\n",
    "\n",
    "As a concrete example, consider $f(x) = \\sin(x)$. Clearly, $y'' = -\\cos(x)$, but let's demonstrate how we can use finite differencing to perform this calculation numerically.\n",
    "\n",
    "### Method 1: using a `for` loop\n",
    "\n",
    "One easy way to apply the finice difference operator is to simply apply the equation above over a grid of values. Let's have a go and check that it works"
   ]
  },
  {
   "cell_type": "code",
   "execution_count": null,
   "id": "df621fb0",
   "metadata": {},
   "outputs": [],
   "source": [
    "def f(x):\n",
    "    \"\"\" The function we want to calculate the finite difference for\"\"\"\n",
    "    return np.sin(x)\n",
    "\n",
    "# Define a grid in x\n",
    "N = 100\n",
    "x_array = np.linspace(0, 2 * np.pi, N)\n",
    "\n",
    "# Loop over the grid and calculate the second order derivative at each point\n",
    "ypp_method1 = []\n",
    "h = 0.5\n",
    "for x in x_array:\n",
    "    second_order_derivative = (f(x - h) - 2 * f(x) + f(x + h)) / h ** 2\n",
    "    ypp_method1.append(second_order_derivative)\n",
    "   \n",
    "# Plot the results\n",
    "fig, ax = plt.subplots()\n",
    "ax.plot(x_array, f(x_array), label=\"f(x)\")\n",
    "ax.plot(x_array, -np.sin(x_array), label=\"$y''$ calculated exactly\")\n",
    "ax.plot(x_array, ypp_method1, \"--\", label=\"$y''$ calculated numerically\")\n",
    "ax.set(xlabel=\"x\")\n",
    "ax.legend()\n",
    "plt.show()"
   ]
  },
  {
   "cell_type": "markdown",
   "id": "e394dc45",
   "metadata": {},
   "source": [
    "<div class=\"alert alert-block alert-danger\">\n",
    "<b>Challenge 5.1:</b> Investigate how changing the value of h in the script impacts the quality of the solution. You may wish to rewrite it as a function and plot the residual rather than the value.\n",
    "</div>\n",
    "\n",
    "This works nicely - we get almost the same solution numerically as we do exactly. But, there is a lot of calculation going on in a linear fashion! For each for loop, we perform 3 evaluations of the function, so there is a total of $100 \\times 3=300$ operations, all performed in sequence. We are not taking advantage of parallelisation. Moreover, if we make $h$ equal to the size of the grid, we can reuse calculations. I.e, we should only do 100 calculations in parallel. To do this, we can rewrite the problem in matrix form.\n",
    "\n",
    "### Method 2: Represent the operator as a matrix\n",
    "\n",
    "Let us refer to $x_i \\forall i \\in [0, N-1]$ as the $N$-length grid of points that we want to evaluate $f''(x)$. And, let us set $h=x_{i+1}-x{i}$. Then, writing $f_i = f(x_i)$, we can write each individual term as\n",
    "\\begin{align}\n",
    "y''_i = \\frac{f_{i-1} - 2 f_{i} + f_{i+1}}{h^2}\n",
    "\\end{align}\n",
    "\n",
    "Now, let's say we have a grid of size $N=8$ (this is big enough to show the problem, but much too small in practise of course!). Then, we can write this out the components of $y''_i$ as a matrix equation:\n",
    "\n",
    "\\begin{align}\n",
    "\\left[\\begin{array}{c}y_0 \\\\ y_1 \\\\ y_2\\\\ y_3\\\\ y_4 \\\\ y_5 \\\\ y_6  \\\\ y_7\\end{array}\\right] = \n",
    "\\frac{1}{h^2}\n",
    "\\left[\\begin{array}{ccccc}\n",
    "?? & ?? & ?? & ?? & 0 & 0 & 0 & 0\\\\ \n",
    "1 & -2 & 1 & 0 & 0 & 0 & 0 & 0\\\\ \n",
    "0 & 1 & -2 & 1 & 0 & 0 & 0 & 0\\\\ \n",
    "0 & 0 & 1 & -2 & 1 & 0 & 0 & 0\\\\ \n",
    "0 & 0 & 0 & 1 & -2 & 1 & 0 & 0\\\\ \n",
    "0 & 0 & 0 & 0 & 1 & -2 & 1 & 0\\\\ \n",
    "0 & 0 & 0 & 0 & 0 & 1 & -2 & 1\\\\ \n",
    "0 & 0 & 0 & 0 & ?? & ?? & ?? & ??\\\\ \n",
    "\\end{array}\\right]\n",
    "\\left[\\begin{array}{c}f_0 \\\\ f_1 \\\\ f_2 \\\\ f_3\\\\ f_4\\\\ f_5\\\\ f_6 \\\\ f_7 \\end{array}\\right]\n",
    "\\end{align}\n",
    "If you look at the middle rows, e.g. row 3, you'll see you can read off the coefficients from the equation above.\n",
    "But, you may notice that the first and last row's do not correspond to the central finite difference equation. This is because out the boundary, that equation cannot be applied! Instead, we use forward/backward differencing, which results in different coefficients. Luckily, we don't need to implement these sort of problems from scratch, there is a nice package called `findiff` which will do it for us. Let's use it to print out the Matrix above (note we set `h=1` because the matrix it prints includes that scaling:"
   ]
  },
  {
   "cell_type": "code",
   "execution_count": null,
   "id": "68ae9d63",
   "metadata": {},
   "outputs": [],
   "source": [
    "h = 1\n",
    "N = 8\n",
    "order = 2\n",
    "d2_dx2 = FinDiff(0, h, order)\n",
    "d2_dx2.matrix((N,)).toarray()"
   ]
  },
  {
   "cell_type": "markdown",
   "id": "c8252fe4",
   "metadata": {},
   "source": [
    "Okay, now let's use `FinDiff` to perform the finite differencing"
   ]
  },
  {
   "cell_type": "code",
   "execution_count": null,
   "id": "2c995af2",
   "metadata": {},
   "outputs": [],
   "source": [
    "N = 100\n",
    "x_array = np.linspace(0, 2 * np.pi, N)\n",
    "\n",
    "h = x_array[1] - x_array[0]\n",
    "fx_array = f(x_array)\n",
    "ypp_method2 = FinDiff(0, h, 2).matrix((N,)) * fx_array\n",
    "\n",
    "# Plot the results\n",
    "fig, ax = plt.subplots()\n",
    "ax.plot(x_array, f(x_array), label=\"f(x)\")\n",
    "ax.plot(x_array, -np.sin(x_array), label=\"$y''$ calculated exactly\")\n",
    "ax.plot(x_array, ypp_method2, \"--\", label=\"$y''$ calculated numerically\")\n",
    "ax.set(xlabel=\"x\")\n",
    "ax.legend()\n",
    "plt.show()"
   ]
  },
  {
   "cell_type": "markdown",
   "id": "e7e5c751",
   "metadata": {},
   "source": [
    "<div class=\"alert alert-block alert-danger\">\n",
    "<b>Challenge 5.2:</b> Look up the documentation for findiff (Hint: Google) and provide a sentence or two explaining what the three arguments used above are.\n",
    "</div>"
   ]
  },
  {
   "cell_type": "markdown",
   "id": "63b4ea97",
   "metadata": {},
   "source": [
    "## Numerical Solutions to the Time-Dependent Schrödinger Equation\n",
    "\n",
    "Okay, now we get into the details of the method to solve the time-dependent Schrödinger equation. We will use a technique known as the Crank-Nicholson algorithm. This proceeds as follows, first discretise it on a grid in time and use forward differncing to approximate the time derivative:\n",
    "\n",
    "\\begin{align}\n",
    "i \\frac{\\partial \\Psi(x, t)}{\\partial t} \\approx i \\frac{\\Psi^{n+1} - \\Psi^{n}}{\\Delta t} = H \\Psi^n\\,\n",
    "\\end{align}\n",
    "\n",
    "where $\\Psi^n$ is taken to mean the wave function at time $t_n$ evaluated at $x$ (which will be a grid of points). Next, rearrange to give\n",
    "\n",
    "\\begin{align}\n",
    "\\Psi^{n+1} = \\Psi^n - i \\Delta t H \\Psi^n = (1 - i \\Delta t H)\\Psi^n\n",
    "\\end{align}\n",
    "\n",
    "It may look like we are done: we can evolve the wavefunction explicitly using this forward differencing scheme! However, in practice solutions do not conserve the norm of $\\Psi$. Instead, the Crank-Nicholson algorithm sets up the implicit scheme by applying backward differencing:\n",
    "\n",
    "\\begin{align}\n",
    "i \\frac{\\partial \\Psi(x, t)}{\\partial t} \\approx i \\frac{\\Psi^{n+1} - \\Psi^{n}}{\\Delta t} = H \\Psi^{n+1} \\Rightarrow \\Psi^{n+1} = \\Psi^{n} - i\\Delta t H \\Psi^{n+1}\n",
    "\\end{align}\n",
    "\n",
    "Now we have two equations:\n",
    "\n",
    "\\begin{align}\n",
    "\\Psi^{n+1} &= (1 - i\\Delta t H)\\Psi^{n} \\\\\n",
    "\\Psi^{n+1} &= \\Psi^{n} - i\\Delta t H \\Psi^{n+1}\n",
    "\\end{align}\n",
    "\n",
    "The Crank-Nicholson algorithm averages these:\n",
    "\\begin{align}\n",
    "\\Psi^{n+1} = \\frac{1}{2}\\left(1 - i\\Delta t H\\right)\\Psi^{n} + \\frac{1}{2}\\left(\\Psi^{n} - i\\Delta t H \\Psi^{n+1}\\right)\n",
    "\\end{align}\n",
    "\n",
    "Then, rearranging we have\n",
    "\n",
    "\\begin{align}\n",
    "\\Psi^{n+1} = \\underbrace{\\left(1 + \\frac{i \\Delta t}{2}H\\right)^{-1}\\left(1 - \\frac{i \\Delta t}{2}H\\right)}_{=U} \\Psi^n\n",
    "\\end{align}\n",
    "\n",
    "where the matrix 𝑈 thus defined is the discretized version of the time propagation operator in the Crank-Nicholson scheme.\n",
    "\n",
    "This method is a second order algorithm in $t$, i.e. the discretization error decreases as $\\tau^2$. The finite difference representation of the second derivative $d^2/dx^2$ is also good to second order in $h^2$. The Crank-Nicholson Algorithm also gives a unitary evolution in time. That is especially useful for quantum mechanics where unitarity assures that the normalization of the wavefunction is unchanged over time.\n",
    "\n",
    "### Implementation\n",
    "\n",
    "Okay, let's have a go at implement the Crank-Nicholson solution, using our initial data defined above. The first step is to realise that in discretising in time,\n",
    "\n",
    "\\begin{align}\n",
    "H = -\\frac{1}{2} \\frac{\\partial^{2}}{\\partial x^2} + V(x)\\,,\n",
    "\\end{align}\n",
    "\n",
    "is now represented by a matrix operator. We can implement this using `FinDiff` for the second-order spatial derivative. Meanwhile $V(x)$ is a diagonal matrix."
   ]
  },
  {
   "cell_type": "code",
   "execution_count": null,
   "id": "8129250c",
   "metadata": {},
   "outputs": [],
   "source": [
    "# Input parameters\n",
    "Nx = 500\n",
    "xmin = -5\n",
    "xmax = 5\n",
    "\n",
    "Nt = 250\n",
    "tmin = 0\n",
    "tmax = 20\n",
    "k = 1 \n",
    "\n",
    "# Calculate grid, potential, and initial wave function\n",
    "x_array = np.linspace(xmin, xmax, Nx)\n",
    "t_array = np.linspace(tmin, tmax, Nt)\n",
    "v_x = k * x_array ** 2\n",
    "psi = np.exp(-(x_array+2)**2)\n",
    "\n",
    "# Calculate finite difference elements\n",
    "dt = t_array[1] - t_array[0]\n",
    "dx = x_array[1] - x_array[0]\n",
    "\n",
    "# Convert to a diagonal matrix\n",
    "v_x_matrix = diags(v_x)\n",
    "\n",
    "# Calculate the Hamiltonian matrix\n",
    "H = -0.5 * FinDiff(0, dx, 2).matrix(x_array.shape) + v_x_matrix\n",
    "\n",
    "# Apply boundary conditions to the Hamiltonian\n",
    "H[0, :] = H[-1, :] = 0\n",
    "H[0, 0] = H[-1, -1] = 1\n",
    "\n",
    "# Calculate U\n",
    "I_plus = eye(Nx) + 1j * dt / 2. * H\n",
    "I_minus = eye(Nx) - 1j * dt / 2. * H\n",
    "U = inv(I_minus).dot(I_plus)\n",
    "\n",
    "# Iterate over each time, appending each calculation of psi to a list\n",
    "psi_list = []\n",
    "for t in t_array:\n",
    "    psi = U.dot(psi)\n",
    "    psi[0] = psi[-1] = 0\n",
    "    psi_list.append(np.abs(psi))"
   ]
  },
  {
   "cell_type": "markdown",
   "id": "3932bcc8",
   "metadata": {},
   "source": [
    "### Visualisation\n",
    "We now have a numerical solution stored in our list `psi_list`. Next step, visualize! Perhaps the easiest way to see things is to plot a 2D colormap"
   ]
  },
  {
   "cell_type": "code",
   "execution_count": null,
   "id": "3c8e2edb",
   "metadata": {},
   "outputs": [],
   "source": [
    "psi_mag_squared = np.abs(psi_list)**2\n",
    "\n",
    "fig, ax = plt.subplots(figsize=(10, 8))\n",
    "c = ax.pcolor(x_array, t_array, psi_mag_squared, shading=\"auto\")\n",
    "ax.set(xlabel=\"x [arb units]\", ylabel=\"time [arb units]\")\n",
    "cbar = fig.colorbar(c, ax=ax)\n",
    "cbar.set_label(\"$|\\Psi(x, t)|^2$\")\n",
    "plt.show()"
   ]
  },
  {
   "cell_type": "markdown",
   "id": "99a42312",
   "metadata": {},
   "source": [
    "This shows time increase vertically. We can see the probability density sloshing back and forth.. but what is happening at the end? \n",
    "\n",
    "An alternative way to view the data is with an animation. This code will create an mp4 file."
   ]
  },
  {
   "cell_type": "code",
   "execution_count": null,
   "id": "70f6f2c9",
   "metadata": {},
   "outputs": [],
   "source": [
    "fig, ax = plt.subplots()\n",
    "\n",
    "ax.set_xlabel(\"x [arb units]\")\n",
    "ax.set_ylabel(\"$|\\Psi(x, t)|$\", color=\"C0\")\n",
    "\n",
    "ax_twin = ax.twinx()\n",
    "ax_twin.plot(x_array, v_x, color=\"C1\")\n",
    "ax_twin.set_ylabel(\"V(x) [arb units]\", color=\"C1\")\n",
    "\n",
    "line, = ax.plot([], [], color=\"C0\", lw=2)\n",
    "ax.grid()\n",
    "xdata, ydata = [], []\n",
    "\n",
    "def run(psi):\n",
    "    line.set_data(x_array, np.abs(psi)**2)\n",
    "    return line,\n",
    "\n",
    "ax.set_xlim(x_array[0], x_array[-1])\n",
    "ax.set_ylim(0, 1)\n",
    "\n",
    "ani = animation.FuncAnimation(fig, run, psi_list, interval=10)\n",
    "ani.save(\"particle_in_a_well.mp4\", fps=120, dpi=300)"
   ]
  },
  {
   "cell_type": "markdown",
   "id": "0c2bca5b",
   "metadata": {},
   "source": [
    "We can then load this visualisation directly into the notebook with the following cell. Alternatively, you can open the file directly to view it."
   ]
  },
  {
   "cell_type": "code",
   "execution_count": null,
   "id": "8982b0fe",
   "metadata": {},
   "outputs": [],
   "source": [
    "%%HTML\n",
    "<video width=\"500\" height=\"400\" controls>\n",
    "  <source src=\"particle_in_a_well.mp4\" type=\"video/mp4\">\n",
    "</video>"
   ]
  },
  {
   "cell_type": "markdown",
   "id": "e20f1e45",
   "metadata": {},
   "source": [
    "<div class=\"alert alert-block alert-danger\">\n",
    "<b>Challenge 5.3:</b> Starting with the code above, write a functional or object orientated implementation of the simulations. Your implementation should \n",
    "    <ul>\n",
    "    <li> Enable arbitrary choices of input parameters </li>\n",
    "    <li> Enable the user to provide the potential directly (they will also need to provide the `x_array`) </li>\n",
    "    <li> It should save the simulated data (i.e. `psi_list`) to disk </li>\n",
    "    </ul>\n",
    "    \n",
    "</div>"
   ]
  },
  {
   "cell_type": "markdown",
   "id": "25056010",
   "metadata": {},
   "source": [
    "<div class=\"alert alert-block alert-danger\">\n",
    "<b>Challenge 5.4:</b> Starting with the code above, write a functional or object orientated implementation of the visualisation. Your implementation should take as input the path to the data created in an instance of the last challenge and produce a mp4 file animating the simulation   \n",
    "</div>"
   ]
  },
  {
   "cell_type": "markdown",
   "id": "2428ba3d",
   "metadata": {},
   "source": [
    "<div class=\"alert alert-block alert-danger\">\n",
    "<b>Challenge 5.5:</b> Use your implementation to produce a numerical solution to the particle in a well. Then, by reading in the data it creates, estimate the frequency of the oscillations. There are several ways you can do this, but you may consider tracking the peak of the probability distribution as a function of time.\n",
    "    \n",
    "</div>"
   ]
  }
 ],
 "metadata": {
  "kernelspec": {
   "display_name": "Python 3 (ipykernel)",
   "language": "python",
   "name": "python3"
  },
  "language_info": {
   "codemirror_mode": {
    "name": "ipython",
    "version": 3
   },
   "file_extension": ".py",
   "mimetype": "text/x-python",
   "name": "python",
   "nbconvert_exporter": "python",
   "pygments_lexer": "ipython3",
   "version": "3.9.12"
  }
 },
 "nbformat": 4,
 "nbformat_minor": 5
}
